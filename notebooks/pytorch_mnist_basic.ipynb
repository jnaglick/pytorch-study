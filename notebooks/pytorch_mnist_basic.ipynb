{
 "cells": [
  {
   "cell_type": "code",
   "execution_count": 1,
   "metadata": {
    "id": "Y5zIb2BqXjkc"
   },
   "outputs": [],
   "source": [
    "import torch\n",
    "import torchvision\n",
    "import matplotlib.pyplot as plt\n",
    "import time\n",
    "import random\n",
    "from collections import deque"
   ]
  },
  {
   "cell_type": "markdown",
   "metadata": {
    "id": "FgDyRuTkak5V"
   },
   "source": [
    "**Load the MNIST dataset**: You can use the torchvision module to download and load the MNIST dataset."
   ]
  },
  {
   "cell_type": "code",
   "execution_count": 2,
   "metadata": {
    "colab": {
     "base_uri": "https://localhost:8080/",
     "height": 265
    },
    "id": "eWLKy4YZao6l",
    "outputId": "85c52847-9f98-4a19-bca3-3fbbc63684f6"
   },
   "outputs": [
    {
     "data": {
      "image/png": "[encoded data removed]",
      "text/plain": [
       "<Figure size 640x480 with 1 Axes>"
      ]
     },
     "metadata": {},
     "output_type": "display_data"
    }
   ],
   "source": [
    "mnistData=torchvision.datasets.FashionMNIST(root='../data', train=True, download=True)\n",
    "\n",
    "image = mnistData[random.randint(0, len(mnistData) - 1)][0]\n",
    "\n",
    "# plot a random image\n",
    "plt.imshow(image, cmap='gray')\n",
    "plt.show()"
   ]
  },
  {
   "cell_type": "markdown",
   "metadata": {
    "id": "8k6WjA1QZRwD"
   },
   "source": [
    "**Define the neural network architecture:** You can use PyTorch's nn module to define a simple neural network architecture, such as a feedforward neural network with one hidden layer."
   ]
  },
  {
   "cell_type": "code",
   "execution_count": 4,
   "metadata": {
    "id": "WttqTjwLZbvF"
   },
   "outputs": [],
   "source": [
    "class MnistClassifier(torch.nn.Module):\n",
    "    def __init__(self, input_size, hidden_size, output_size):\n",
    "        super(MnistClassifier, self).__init__()\n",
    "        self.inputLayer = torch.nn.Linear(input_size, hidden_size)\n",
    "        # TODO do better, use stacks\n",
    "        self.layer2 = torch.nn.Linear(hidden_size, hidden_size)\n",
    "        self.layer3 = torch.nn.Linear(hidden_size, hidden_size)\n",
    "        self.outputLayer = torch.nn.Linear(hidden_size, output_size)\n",
    "    \n",
    "    def forward(self, x):\n",
    "        out = self.inputLayer(x)\n",
    "        # out = torch.nn.ELU(inplace=True)(self.layer2(out))\n",
    "        out = self.layer2(out)\n",
    "        out = self.layer3(out)\n",
    "        out = torch.nn.ELU(inplace=True)(self.outputLayer(out))\n",
    "        return out"
   ]
  },
  {
   "cell_type": "markdown",
   "metadata": {
    "id": "Vh1UpKUKI5Q9"
   },
   "source": [
    "**Define Hyperparameters**"
   ]
  },
  {
   "cell_type": "code",
   "execution_count": 5,
   "metadata": {
    "id": "t_yRzryhI4UW"
   },
   "outputs": [],
   "source": [
    "HIDDEN_LAYER_SIZE = 2048\n",
    "LEARNING_RATE = 0.01\n",
    "BATCH_SIZE = 500\n",
    "EPOCHS = 128\n",
    "\n",
    "# size of the window used to compute the rolling avgerage of gradient mags\n",
    "# used to track convergence, must be < epochs\n",
    "GRADIENT_MAG_ROLLING_AVERAGE_WINDOW_SIZE = 4"
   ]
  },
  {
   "cell_type": "markdown",
   "metadata": {
    "id": "Ef95p9OHJrD-"
   },
   "source": [
    "**Load dataset** transformations, feature selection"
   ]
  },
  {
   "cell_type": "code",
   "execution_count": 6,
   "metadata": {
    "id": "aP6BV02KKVc4"
   },
   "outputs": [],
   "source": [
    "flattenImageTransform = torchvision.transforms.Compose([\n",
    "    torchvision.transforms.ToTensor(), # Convert the PIL image to a tensor\n",
    "    torchvision.transforms.Normalize((0.5,), (0.5,)),   # normalize the pixel values\n",
    "    torchvision.transforms.Lambda(lambda x: x.flatten()), # flatten\n",
    "])\n",
    "\n",
    "mnistData.transform = flattenImageTransform"
   ]
  },
  {
   "cell_type": "markdown",
   "metadata": {
    "id": "_urCOvQjKouY"
   },
   "source": [
    "**Initialize classifier**"
   ]
  },
  {
   "cell_type": "code",
   "execution_count": 7,
   "metadata": {
    "id": "OVo8eLvqKrjb"
   },
   "outputs": [],
   "source": [
    "# set input size using shape of first item; output size to 10 (mnist)\n",
    "image = mnistData[0][0]\n",
    "classifier = MnistClassifier(image.shape[0], HIDDEN_LAYER_SIZE, 10)\n",
    "# print('shape', image.shape)"
   ]
  },
  {
   "cell_type": "markdown",
   "metadata": {},
   "source": [
    "**Run on GPU?**"
   ]
  },
  {
   "cell_type": "code",
   "execution_count": 9,
   "metadata": {},
   "outputs": [
    {
     "name": "stdout",
     "output_type": "stream",
     "text": [
      "gpu not available\n",
      "mps available!\n"
     ]
    },
    {
     "data": {
      "text/plain": [
       "MnistClassifier(\n",
       "  (inputLayer): Linear(in_features=784, out_features=2048, bias=True)\n",
       "  (layer2): Linear(in_features=2048, out_features=2048, bias=True)\n",
       "  (layer3): Linear(in_features=2048, out_features=2048, bias=True)\n",
       "  (outputLayer): Linear(in_features=2048, out_features=10, bias=True)\n",
       ")"
      ]
     },
     "execution_count": 9,
     "metadata": {},
     "output_type": "execute_result"
    }
   ],
   "source": [
    "# run on GPU?!\n",
    "print(\"gpu available!\" if torch.cuda.is_available() else \"gpu not available\")\n",
    "print(\"mps available!\" if torch.backends.mps.is_available() else \"mps not available\")\n",
    "device = torch.device(\"cuda:0\" if torch.cuda.is_available() else \"cpu\")\n",
    "device = torch.device(\"mps\" if torch.backends.mps.is_available() else \"cpu\")\n",
    "classifier.to(device)"
   ]
  },
  {
   "cell_type": "markdown",
   "metadata": {
    "id": "klHBSuA4Loxm"
   },
   "source": [
    "**Setup getAccuracy function on eval data so we can measure it during training**"
   ]
  },
  {
   "cell_type": "code",
   "execution_count": 10,
   "metadata": {
    "id": "yjhF3GiqJyAG"
   },
   "outputs": [],
   "source": [
    "evaluationData=torchvision.datasets.FashionMNIST(root='./data', train=False, download=True, transform=flattenImageTransform)\n",
    "evaluationDataloader = torch.utils.data.DataLoader(evaluationData, batch_size=1024, shuffle=True)\n",
    "\n",
    "def getAccuracy():\n",
    "  classifier.eval()  # Set the model to evaluation mode\n",
    "  correct = 0\n",
    "  with torch.no_grad():\n",
    "      for inputs, actuals in evaluationDataloader:\n",
    "          inputs, actuals = inputs.to(device), actuals.to(device)\n",
    "          output = classifier(inputs)\n",
    "          pred = output.argmax(dim=1, keepdim=True)\n",
    "          correct += pred.eq(actuals.view_as(pred)).sum().item()\n",
    "  classifier.train() # Set back to training mode\n",
    "  return 100. * correct / len(evaluationData)"
   ]
  },
  {
   "cell_type": "markdown",
   "metadata": {
    "id": "kATwXRQYZgF6"
   },
   "source": [
    "**Train the neural network:** You can use PyTorch's torch.optim module to define an optimizer (such as stochastic gradient descent) and a loss function (such as cross-entropy loss) to train the neural network. You can also use PyTorch's nn module to define a Dataset and a DataLoader to iterate over the training data in mini-batches."
   ]
  },
  {
   "cell_type": "code",
   "execution_count": 12,
   "metadata": {
    "colab": {
     "background_save": true,
     "base_uri": "https://localhost:8080/"
    },
    "id": "zcZ06zAqZnDz",
    "outputId": "e016c66b-1226-400d-a16c-d37be75b029b"
   },
   "outputs": [
    {
     "name": "stdout",
     "output_type": "stream",
     "text": [
      "Epoch #1:    Loss: 0.4464    Accuracy: 82.48%    Grad Norm: 0.9214    Rolling Avg: 0.0000    (2.98s)\n"
     ]
    },
    {
     "data": {
      "image/png": "[encoded data removed]",
      "text/plain": [
       "<Figure size 640x480 with 1 Axes>"
      ]
     },
     "metadata": {},
     "output_type": "display_data"
    },
    {
     "name": "stdout",
     "output_type": "stream",
     "text": [
      "Epoch #2:    Loss: 0.5022    Accuracy: 82.64%    Grad Norm: 0.7286    Rolling Avg: 0.0000    (2.88s)\n",
      "Epoch #3:    Loss: 0.5058    Accuracy: 82.50%    Grad Norm: 0.9542    Rolling Avg: 0.0000    (2.90s)\n",
      "Epoch #4:    Loss: 0.4375    Accuracy: 82.88%    Grad Norm: 0.9821    Rolling Avg: 0.8966    (2.85s)\n",
      "Epoch #5:    Loss: 0.5101    Accuracy: 82.98%    Grad Norm: 0.8728    Rolling Avg: 0.8844    (2.83s)\n",
      "Training stopped\n"
     ]
    }
   ],
   "source": [
    "# loss and optimizer\n",
    "optimizer = torch.optim.SGD(classifier.parameters(), lr=LEARNING_RATE)\n",
    "lossFn = torch.nn.CrossEntropyLoss()\n",
    "\n",
    "# load data\n",
    "dataloader = torch.utils.data.DataLoader(mnistData, batch_size=BATCH_SIZE, shuffle=True)\n",
    "\n",
    "# training stats\n",
    "losses = []\n",
    "accuracies = []\n",
    "grad_mag_window = deque(maxlen=GRADIENT_MAG_ROLLING_AVERAGE_WINDOW_SIZE)\n",
    "grad_mag_rolling_avg = None # rolling avg of gradient magnitudes (for converging)\n",
    "\n",
    "fig, ax = plt.subplots()\n",
    "#fig2, ax2 = plt.subplots()\n",
    "\n",
    "try:\n",
    "  # training loop:\n",
    "  for epoch in range(EPOCHS):\n",
    "    start_time = time.time()\n",
    "\n",
    "    for inputs, actuals in dataloader:\n",
    "      # compute on gpu:\n",
    "      inputs, actuals = inputs.to(device), actuals.to(device)\n",
    "      # core training routine:\n",
    "      optimizer.zero_grad()\n",
    "      predictions = classifier.forward(inputs) # forward prop\n",
    "      loss = lossFn(predictions, actuals) # get loss\n",
    "      loss.backward() # compute gradients of weights with respect to loss\n",
    "      optimizer.step() # apply gradients to weights\n",
    "\n",
    "    # collect training stats:\n",
    "    took = time.time() - start_time\n",
    "\n",
    "    losses.append(loss.item())\n",
    "\n",
    "    grad_mag = torch.norm(torch.stack([torch.norm(p.grad.detach()) for p in classifier.parameters()]))\n",
    "    grad_mag_window.append(grad_mag)\n",
    "    grad_mag_rolling_avg = sum(grad_mag_window) / len(grad_mag_window) \\\n",
    "      if len(grad_mag_window) == grad_mag_window.maxlen \\\n",
    "      else torch.tensor(0)\n",
    "\n",
    "    accuracy = getAccuracy()\n",
    "    accuracies.append(accuracy)\n",
    "\n",
    "    # epoch report:\n",
    "    print(f\"Epoch #{epoch+1}:\\\n",
    "    Loss: {loss.item():.4f}\\\n",
    "    Accuracy: {accuracy:.2f}%\\\n",
    "    Grad Norm: {grad_mag.item():.4f}\\\n",
    "    Rolling Avg: {grad_mag_rolling_avg.item():.4f}\\\n",
    "    ({took:.2f}s)\")\n",
    "\n",
    "    ax.clear()\n",
    "    ax.plot(losses, color='red', alpha=0.3, label='Loss')\n",
    "    ax.set_xlabel('Epochs')\n",
    "    ax.set_ylabel('Loss')\n",
    "    ax.set_xlim(0, EPOCHS)\n",
    "    \n",
    "    #ax2.clear()\n",
    "    #ax2.plot(accuracies, color='blue', alpha=0.3, label='Accuracy')\n",
    "    #ax2.set_xlabel('Epochs')\n",
    "    #ax2.set_ylabel('Accuracy')\n",
    "    \n",
    "    plt.pause(0.1)\n",
    "\n",
    "except KeyboardInterrupt:\n",
    "    print('Training stopped')\n",
    "\n",
    "plt.show()"
   ]
  },
  {
   "cell_type": "markdown",
   "metadata": {
    "id": "K_R3p7IPqbc1"
   },
   "source": [
    "**Plot Training Stats**"
   ]
  },
  {
   "cell_type": "code",
   "execution_count": 13,
   "metadata": {
    "id": "BP9VTi4gqWra"
   },
   "outputs": [
    {
     "data": {
      "image/png": "[encoded data removed]",
      "text/plain": [
       "<Figure size 640x480 with 1 Axes>"
      ]
     },
     "metadata": {},
     "output_type": "display_data"
    },
    {
     "data": {
      "image/png": "[encoded data removed]",
      "text/plain": [
       "<Figure size 640x480 with 1 Axes>"
      ]
     },
     "metadata": {},
     "output_type": "display_data"
    }
   ],
   "source": [
    "fig, ax = plt.subplots()\n",
    "ax.plot(losses, color='red', alpha=0.3, label='Loss')\n",
    "ax.set_xlabel('Epochs')\n",
    "ax.set_ylabel('Loss')\n",
    "\n",
    "fig2, ax2 = plt.subplots()\n",
    "ax2.plot(accuracies, color='blue', alpha=0.3, label='Accuracy')\n",
    "ax2.set_xlabel('Epochs')\n",
    "ax2.set_ylabel('Accuracy')\n",
    "\n",
    "plt.show()"
   ]
  },
  {
   "cell_type": "markdown",
   "metadata": {
    "id": "I9PKdph9ZwGY"
   },
   "source": [
    "\n",
    "**Evaluate the performance of the neural network:** You can evaluate the performance of the neural network on a validation set (which can be a subset of the MNIST dataset) using metrics such as accuracy or mean squared error. This step helps you assess how well the model is generalizing to new, unseen data, and can be used to fine-tune the model hyperparameters."
   ]
  },
  {
   "cell_type": "code",
   "execution_count": 14,
   "metadata": {
    "id": "_IWIv5ewZw_n"
   },
   "outputs": [
    {
     "name": "stdout",
     "output_type": "stream",
     "text": [
      "Test set: Average loss: -9.6536, Accuracy: 8287/10000 (82.87%)\n"
     ]
    }
   ],
   "source": [
    "test_loss = 0\n",
    "correct = 0\n",
    "\n",
    "classifier.eval()\n",
    "with torch.no_grad():\n",
    "    for inputs, labels in evaluationDataloader:\n",
    "        inputs, labels = inputs.to(device), labels.to(device)\n",
    "\n",
    "        output = classifier(inputs)\n",
    "        test_loss += torch.nn.functional.nll_loss(output, labels, reduction='sum').item()\n",
    "        pred = output.argmax(dim=1, keepdim=True)\n",
    "        correct += pred.eq(labels.view_as(pred)).sum().item()\n",
    "\n",
    "test_loss /= len(evaluationData)\n",
    "accuracy = 100. * correct / len(evaluationData)\n",
    "print('Test set: Average loss: {:.4f}, Accuracy: {}/{} ({:.2f}%)'.format(\n",
    "    test_loss, correct, len(evaluationData), accuracy))\n"
   ]
  }
 ],
 "metadata": {
  "accelerator": "GPU",
  "colab": {
   "provenance": []
  },
  "gpuClass": "standard",
  "kernelspec": {
   "display_name": "Python 3 (ipykernel)",
   "language": "python",
   "name": "python3"
  },
  "language_info": {
   "codemirror_mode": {
    "name": "ipython",
    "version": 3
   },
   "file_extension": ".py",
   "mimetype": "text/x-python",
   "name": "python",
   "nbconvert_exporter": "python",
   "pygments_lexer": "ipython3",
   "version": "3.9.6"
  }
 },
 "nbformat": 4,
 "nbformat_minor": 1
}
